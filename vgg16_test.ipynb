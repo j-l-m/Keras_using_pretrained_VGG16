{
 "cells": [
  {
   "cell_type": "markdown",
   "metadata": {},
   "source": [
    "# Using VGG16 Pre-trained on <i>ImageNet</i>"
   ]
  },
  {
   "cell_type": "code",
   "execution_count": 7,
   "metadata": {},
   "outputs": [],
   "source": [
    "import tensorflow.keras.backend as K\n",
    "from tensorflow.keras.models import Model\n",
    "from tensorflow.keras.models import Sequential\n",
    "from tensorflow.keras.layers import Dense\n",
    "from tensorflow.keras.layers import Input\n",
    "from tensorflow.keras.layers import Flatten\n",
    "from tensorflow.keras import optimizers\n",
    "from tensorflow.keras.preprocessing.image import ImageDataGenerator\n",
    "from tensorflow.keras.preprocessing import image\n",
    "from sklearn.metrics import classification_report\n",
    "import numpy as np\n",
    "import pickle\n",
    "import matplotlib.pyplot as plt\n",
    "from tensorflow.keras.applications.vgg16 import VGG16"
   ]
  },
  {
   "cell_type": "code",
   "execution_count": 8,
   "metadata": {},
   "outputs": [],
   "source": [
    "K.clear_session()\n",
    "\n",
    "dataset = \"../data_set\""
   ]
  },
  {
   "cell_type": "markdown",
   "metadata": {},
   "source": [
    "### Set up Keras <i>ImageDataGenerator</i>:\n",
    "<ul>\n",
    "    <li><b>rotation_range</b> adds a random rotation within the range of +/- the value. </li>\n",
    "    <li><b>width_shift_range</b> a random horizontal shift of the image within the range of +/- the value.</li>  \n",
    "    <li><b>height_shift_range</b> a random vertical shift of the image within the range of +/- the value.</li>\n",
    "    <li><b>shear_range</b> a random stretch of the image at an angle within the range of +/- the value.</li>\n",
    "    <li><b>horizontal_flip</b> a allows random flips of the image about the horizontal axis</li>\n",
    "    <li><b>fill_mode</b> some augmentations create empty spaces, fill mode determines how we fill these spaces. \"nearest\" repeats the pixels and the edge of the space.</li>\n",
    "\n",
    "</ul>"
   ]
  },
  {
   "cell_type": "code",
   "execution_count": 9,
   "metadata": {},
   "outputs": [],
   "source": [
    "trdata = ImageDataGenerator(rescale= 1./255,\n",
    "                            rotation_range=40,\n",
    "                            width_shift_range=0.2,\n",
    "                            height_shift_range=0.2,\n",
    "                            shear_range = 0.2,\n",
    "                            zoom_range=0.2,\n",
    "                            horizontal_flip=True,\n",
    "                            fill_mode='nearest')"
   ]
  },
  {
   "cell_type": "markdown",
   "metadata": {},
   "source": [
    "Using the *ImageDataGenerator* to load data from the train, validation and test sets "
   ]
  },
  {
   "cell_type": "code",
   "execution_count": 10,
   "metadata": {},
   "outputs": [
    {
     "name": "stdout",
     "output_type": "stream",
     "text": [
      "Found 2738 images belonging to 2 classes.\n"
     ]
    }
   ],
   "source": [
    "traindata = trdata.flow_from_directory(directory=dataset+\"/train\",\n",
    "                                       target_size = (224,224), \n",
    "                                       color_mode = 'rgb',                                       \n",
    "                                       class_mode = 'binary', \n",
    "                                       batch_size=20,\n",
    "                                       shuffle=True,\n",
    "                                       seed=42)"
   ]
  },
  {
   "cell_type": "code",
   "execution_count": 11,
   "metadata": {},
   "outputs": [
    {
     "name": "stdout",
     "output_type": "stream",
     "text": [
      "Found 686 images belonging to 2 classes.\n"
     ]
    }
   ],
   "source": [
    "valdata = ImageDataGenerator(rescale= 1./255)\n",
    "validatedata = valdata.flow_from_directory(directory=dataset+\"/validate\",\n",
    "                                      target_size = (224,224),\n",
    "                                      color_mode = 'rgb',\n",
    "                                      class_mode = 'binary', \n",
    "                                      batch_size=20)"
   ]
  },
  {
   "cell_type": "code",
   "execution_count": 30,
   "metadata": {},
   "outputs": [
    {
     "name": "stdout",
     "output_type": "stream",
     "text": [
      "Found 856 images belonging to 2 classes.\n"
     ]
    }
   ],
   "source": [
    "tsdata = ImageDataGenerator(rescale= 1./255)\n",
    "testdata = tsdata.flow_from_directory(directory=dataset+\"/test\",\n",
    "                                      target_size = (224,224),\n",
    "                                      color_mode = 'rgb',\n",
    "                                      class_mode = 'binary', \n",
    "                                      batch_size=20,\n",
    "                                     shuffle=False)"
   ]
  },
  {
   "cell_type": "markdown",
   "metadata": {},
   "source": [
    "### Loading VGG16 model with weights after being pre-trained on *ImageNet* "
   ]
  },
  {
   "cell_type": "code",
   "execution_count": 13,
   "metadata": {},
   "outputs": [
    {
     "name": "stdout",
     "output_type": "stream",
     "text": [
      "{'not_scorpion': 0, 'scorpion_pepper': 1}\n"
     ]
    }
   ],
   "source": [
    "label_map = (traindata.class_indices)\n",
    "print(label_map)\n",
    "vggmodel = VGG16(weights=\"imagenet\", include_top='False', input_shape =(224,224,3))"
   ]
  },
  {
   "cell_type": "markdown",
   "metadata": {},
   "source": [
    "### Creating a new model from VGG16 using the Keras Sequential model API\n",
    "\n",
    "<ol>\n",
    "    <li>Create blank model</li>\n",
    "    <li>Add the all layers from VGG16 except the layers at the top of the network (the classifier)</li>\n",
    "    <li>Ensure layers are frozen .i.e. not trainable</li>\n",
    "</ol>"
   ]
  },
  {
   "cell_type": "code",
   "execution_count": 14,
   "metadata": {},
   "outputs": [
    {
     "name": "stdout",
     "output_type": "stream",
     "text": [
      "input_1\n",
      "block1_conv1\n",
      "block1_conv2\n",
      "block1_pool\n",
      "block2_conv1\n",
      "block2_conv2\n",
      "block2_pool\n",
      "block3_conv1\n",
      "block3_conv2\n",
      "block3_conv3\n",
      "block3_pool\n",
      "block4_conv1\n",
      "block4_conv2\n",
      "block4_conv3\n",
      "block4_pool\n",
      "block5_conv1\n",
      "block5_conv2\n",
      "block5_conv3\n",
      "block5_pool\n",
      "block1_conv1 True\n",
      "block1_conv2 True\n",
      "block1_pool True\n",
      "block2_conv1 True\n",
      "block2_conv2 True\n",
      "block2_pool True\n",
      "block3_conv1 True\n",
      "block3_conv2 True\n",
      "block3_conv3 True\n",
      "block3_pool True\n",
      "block4_conv1 True\n",
      "block4_conv2 True\n",
      "block4_conv3 True\n",
      "block4_pool True\n",
      "block5_conv1 True\n",
      "block5_conv2 True\n",
      "block5_conv3 True\n",
      "block5_pool True\n"
     ]
    }
   ],
   "source": [
    "mymodel = Sequential()\n",
    "\n",
    "for layer in vggmodel.layers[:-4]:\n",
    "    print(layer.name)\n",
    "    mymodel.add(layer)\n",
    "    \n",
    "del vggmodel\n",
    "\n",
    "for layer in mymodel.layers:\n",
    "    print(layer.name, layer.trainable)\n",
    "    layer.trainable = False"
   ]
  },
  {
   "cell_type": "markdown",
   "metadata": {},
   "source": [
    "### Adding a classifier to the top of the new model\n",
    "Adds on 2 fully-connected layers and the final output layer is a single neuron with a sigmoid activation function <br>\n",
    "This model is going to be used to perform binary classification so a sigmoid is used as the final layer.<br>\n",
    "The final output is a probability, so a range of 0-1 for the desired class."
   ]
  },
  {
   "cell_type": "code",
   "execution_count": 15,
   "metadata": {},
   "outputs": [],
   "source": [
    "new_top = Sequential()\n",
    "new_top.add(Flatten())\n",
    "new_top.add(Dense(1024, activation = 'relu'))\n",
    "new_top.add(Dense(512, activation ='relu'))\n",
    "new_top.add(Dense(1, activation ='sigmoid'))"
   ]
  },
  {
   "cell_type": "code",
   "execution_count": 16,
   "metadata": {},
   "outputs": [
    {
     "name": "stdout",
     "output_type": "stream",
     "text": [
      "<tensorflow.python.keras.layers.core.Flatten object at 0x00000281D4184390>\n",
      "<tensorflow.python.keras.layers.core.Dense object at 0x00000281D4184470>\n",
      "<tensorflow.python.keras.layers.core.Dense object at 0x00000281D41AAA20>\n",
      "<tensorflow.python.keras.layers.core.Dense object at 0x00000281D4238DA0>\n"
     ]
    }
   ],
   "source": [
    "for layer in new_top.layers:\n",
    "    print(layer)"
   ]
  },
  {
   "cell_type": "code",
   "execution_count": 17,
   "metadata": {},
   "outputs": [
    {
     "name": "stdout",
     "output_type": "stream",
     "text": [
      "Model: \"sequential\"\n",
      "_________________________________________________________________\n",
      "Layer (type)                 Output Shape              Param #   \n",
      "=================================================================\n",
      "block1_conv1 (Conv2D)        (None, 224, 224, 64)      1792      \n",
      "_________________________________________________________________\n",
      "block1_conv2 (Conv2D)        (None, 224, 224, 64)      36928     \n",
      "_________________________________________________________________\n",
      "block1_pool (MaxPooling2D)   (None, 112, 112, 64)      0         \n",
      "_________________________________________________________________\n",
      "block2_conv1 (Conv2D)        (None, 112, 112, 128)     73856     \n",
      "_________________________________________________________________\n",
      "block2_conv2 (Conv2D)        (None, 112, 112, 128)     147584    \n",
      "_________________________________________________________________\n",
      "block2_pool (MaxPooling2D)   (None, 56, 56, 128)       0         \n",
      "_________________________________________________________________\n",
      "block3_conv1 (Conv2D)        (None, 56, 56, 256)       295168    \n",
      "_________________________________________________________________\n",
      "block3_conv2 (Conv2D)        (None, 56, 56, 256)       590080    \n",
      "_________________________________________________________________\n",
      "block3_conv3 (Conv2D)        (None, 56, 56, 256)       590080    \n",
      "_________________________________________________________________\n",
      "block3_pool (MaxPooling2D)   (None, 28, 28, 256)       0         \n",
      "_________________________________________________________________\n",
      "block4_conv1 (Conv2D)        (None, 28, 28, 512)       1180160   \n",
      "_________________________________________________________________\n",
      "block4_conv2 (Conv2D)        (None, 28, 28, 512)       2359808   \n",
      "_________________________________________________________________\n",
      "block4_conv3 (Conv2D)        (None, 28, 28, 512)       2359808   \n",
      "_________________________________________________________________\n",
      "block4_pool (MaxPooling2D)   (None, 14, 14, 512)       0         \n",
      "_________________________________________________________________\n",
      "block5_conv1 (Conv2D)        (None, 14, 14, 512)       2359808   \n",
      "_________________________________________________________________\n",
      "block5_conv2 (Conv2D)        (None, 14, 14, 512)       2359808   \n",
      "_________________________________________________________________\n",
      "block5_conv3 (Conv2D)        (None, 14, 14, 512)       2359808   \n",
      "_________________________________________________________________\n",
      "block5_pool (MaxPooling2D)   (None, 7, 7, 512)         0         \n",
      "_________________________________________________________________\n",
      "sequential_1 (Sequential)    (None, 1)                 26216449  \n",
      "=================================================================\n",
      "Total params: 40,931,137\n",
      "Trainable params: 26,216,449\n",
      "Non-trainable params: 14,714,688\n",
      "_________________________________________________________________\n"
     ]
    }
   ],
   "source": [
    "mymodel.add(new_top)\n",
    "mymodel.summary()"
   ]
  },
  {
   "cell_type": "markdown",
   "metadata": {},
   "source": [
    "### Configure model for training.\n",
    "<ul>\n",
    "    <li> <b>optimizer</b> the backpropagation optimization algorithm being used. <b>Adam</b> is typically used with deep neural networks </li>\n",
    "    <li> <b>loss</b> is the loss function. For a binary classifcation function we use the <b>binary_crossentropy</b> loss function </li>\n",
    "    <li> <b>metrics</b> the list of metrics to monitor during training </li>\n",
    "</ul>"
   ]
  },
  {
   "cell_type": "code",
   "execution_count": 18,
   "metadata": {},
   "outputs": [],
   "source": [
    "mymodel.compile(optimizers.Adam(lr=0.0001), loss='binary_crossentropy',\n",
    "                        metrics =['accuracy'])"
   ]
  },
  {
   "cell_type": "markdown",
   "metadata": {},
   "source": [
    "The **fit_generator** provides a way to configure additional training settings.<br>\n",
    "<ul>\n",
    "    <li> <b>generator</b> is for the training data generator </li>\n",
    "    <li> <b>steps_per_epoch</b> typically determined by the number of samples in the data set divided by the batch size for the training data generator </li>\n",
    "    <li> <b>validation_data</b> is for the validation data generator </li>\n",
    "    <li> <b>validation_steps</b> similar to steps_per_epoch, determined by the number of samples in the data set divided by the batch size for the validation data generator </li>\n",
    "    <li> <b>epochs</b> The number of epoch to train the model for. An epoch is a single iteration over all of the training data</li>\n",
    "    <li> <b>verbose</b> The level of detail about training information output during training</li>\n",
    "</ul>"
   ]
  },
  {
   "cell_type": "code",
   "execution_count": 19,
   "metadata": {},
   "outputs": [
    {
     "name": "stdout",
     "output_type": "stream",
     "text": [
      "Epoch 1/15\n",
      "137/137 - 55s - loss: 0.3932 - accuracy: 0.8218 - val_loss: 0.1743 - val_accuracy: 0.9344\n",
      "Epoch 2/15\n",
      "137/137 - 44s - loss: 0.2167 - accuracy: 0.9156 - val_loss: 0.1358 - val_accuracy: 0.9329\n",
      "Epoch 3/15\n",
      "137/137 - 45s - loss: 0.1631 - accuracy: 0.9361 - val_loss: 0.0854 - val_accuracy: 0.9694\n",
      "Epoch 4/15\n",
      "137/137 - 45s - loss: 0.1389 - accuracy: 0.9434 - val_loss: 0.0683 - val_accuracy: 0.9752\n",
      "Epoch 5/15\n",
      "137/137 - 45s - loss: 0.1084 - accuracy: 0.9554 - val_loss: 0.0854 - val_accuracy: 0.9592\n",
      "Epoch 6/15\n",
      "137/137 - 45s - loss: 0.1088 - accuracy: 0.9547 - val_loss: 0.2722 - val_accuracy: 0.9038\n",
      "Epoch 7/15\n",
      "137/137 - 45s - loss: 0.1064 - accuracy: 0.9565 - val_loss: 0.0382 - val_accuracy: 0.9854\n",
      "Epoch 8/15\n",
      "137/137 - 45s - loss: 0.1055 - accuracy: 0.9547 - val_loss: 0.0455 - val_accuracy: 0.9883\n",
      "Epoch 9/15\n",
      "137/137 - 45s - loss: 0.0775 - accuracy: 0.9693 - val_loss: 0.0459 - val_accuracy: 0.9825\n",
      "Epoch 10/15\n",
      "137/137 - 45s - loss: 0.1004 - accuracy: 0.9595 - val_loss: 0.0420 - val_accuracy: 0.9810\n",
      "Epoch 11/15\n",
      "137/137 - 45s - loss: 0.0905 - accuracy: 0.9602 - val_loss: 0.0247 - val_accuracy: 0.9942\n",
      "Epoch 12/15\n",
      "137/137 - 45s - loss: 0.0780 - accuracy: 0.9708 - val_loss: 0.0461 - val_accuracy: 0.9825\n",
      "Epoch 13/15\n",
      "137/137 - 45s - loss: 0.0869 - accuracy: 0.9671 - val_loss: 0.0753 - val_accuracy: 0.9738\n",
      "Epoch 14/15\n",
      "137/137 - 45s - loss: 0.0776 - accuracy: 0.9693 - val_loss: 0.0284 - val_accuracy: 0.9883\n",
      "Epoch 15/15\n",
      "137/137 - 46s - loss: 0.0783 - accuracy: 0.9730 - val_loss: 0.0643 - val_accuracy: 0.9679\n"
     ]
    }
   ],
   "source": [
    "history = mymodel.fit_generator(generator=traindata, steps_per_epoch=137, \n",
    "                      validation_data= validatedata,  validation_steps=35, \n",
    "                      epochs=15,\n",
    "                      verbose=2)"
   ]
  },
  {
   "cell_type": "markdown",
   "metadata": {},
   "source": [
    "Uses **pickle** (Python object serialization) to store training information as a binary file."
   ]
  },
  {
   "cell_type": "code",
   "execution_count": 20,
   "metadata": {},
   "outputs": [],
   "source": [
    "with open('vgg16/vgg16_p1_trainHistoryDict', 'wb') as file_pi:\n",
    "     pickle.dump(history.history, file_pi)"
   ]
  },
  {
   "cell_type": "markdown",
   "metadata": {},
   "source": [
    "### Plot the model accuracy and loss during training\n",
    "\n",
    "Loss and accuracy graphs of the model on the training and validation sets are plotted.<br>"
   ]
  },
  {
   "cell_type": "code",
   "execution_count": 21,
   "metadata": {},
   "outputs": [
    {
     "data": {
      "image/png": "[encoded data removed]",
      "text/plain": [
       "<Figure size 432x288 with 1 Axes>"
      ]
     },
     "metadata": {
      "needs_background": "light"
     },
     "output_type": "display_data"
    },
    {
     "data": {
      "image/png": "[encoded data removed]",
      "text/plain": [
       "<Figure size 432x288 with 1 Axes>"
      ]
     },
     "metadata": {
      "needs_background": "light"
     },
     "output_type": "display_data"
    }
   ],
   "source": [
    "plt.plot(history.history['accuracy'],linestyle='--', marker='o')\n",
    "plt.plot(history.history['val_accuracy'])\n",
    "plt.title('model accuracy')\n",
    "plt.ylabel('accuracy')\n",
    "plt.xlabel('epoch')\n",
    "plt.legend(['train', 'test'], loc='upper left')\n",
    "plt.show()\n",
    "# summarize history for loss\n",
    "plt.plot(history.history['loss'],linestyle='--', marker='o')\n",
    "plt.plot(history.history['val_loss'])\n",
    "plt.title('model loss')\n",
    "plt.ylabel('loss')\n",
    "plt.xlabel('epoch')\n",
    "plt.legend(['train', 'test'], loc='upper left')\n",
    "plt.show()"
   ]
  },
  {
   "cell_type": "markdown",
   "metadata": {},
   "source": [
    "### Generating a classification report\n",
    "\n",
    "Shows how a classification report can be plotted using model training history.<br>\n",
    "\n",
    "Uses the **scikit-learn** classification_report() function"
   ]
  },
  {
   "cell_type": "code",
   "execution_count": 31,
   "metadata": {},
   "outputs": [
    {
     "name": "stdout",
     "output_type": "stream",
     "text": [
      "43/43 [==============================] - 4s 97ms/step\n"
     ]
    }
   ],
   "source": [
    "K.clear_session() #seems to help prevent a random memoryleak\n",
    "\n",
    "y_pred = mymodel.predict(testdata, verbose=1)\n",
    "\n",
    "y_bool =[]\n",
    "for data in y_pred:\n",
    "    if data <0.5:\n",
    "        y_bool.append(0)\n",
    "    else:\n",
    "        y_bool.append(1)\n",
    "\n"
   ]
  },
  {
   "cell_type": "code",
   "execution_count": 32,
   "metadata": {},
   "outputs": [
    {
     "name": "stdout",
     "output_type": "stream",
     "text": [
      "              precision    recall  f1-score   support\n",
      "\n",
      "           0       1.00      0.92      0.96       428\n",
      "           1       0.93      1.00      0.96       428\n",
      "\n",
      "    accuracy                           0.96       856\n",
      "   macro avg       0.96      0.96      0.96       856\n",
      "weighted avg       0.96      0.96      0.96       856\n",
      "\n"
     ]
    }
   ],
   "source": [
    "report = classification_report(testdata.classes, y_bool, output_dict=False)\n",
    "print(report)"
   ]
  },
  {
   "cell_type": "code",
   "execution_count": null,
   "metadata": {},
   "outputs": [],
   "source": []
  }
 ],
 "metadata": {
  "kernelspec": {
   "display_name": "Python 3",
   "language": "python",
   "name": "python3"
  },
  "language_info": {
   "codemirror_mode": {
    "name": "ipython",
    "version": 3
   },
   "file_extension": ".py",
   "mimetype": "text/x-python",
   "name": "python",
   "nbconvert_exporter": "python",
   "pygments_lexer": "ipython3",
   "version": "3.6.9"
  }
 },
 "nbformat": 4,
 "nbformat_minor": 4
}
